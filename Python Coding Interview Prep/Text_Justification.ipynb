{
  "nbformat": 4,
  "nbformat_minor": 0,
  "metadata": {
    "colab": {
      "provenance": [],
      "authorship_tag": "ABX9TyN4KVKP11K8h3IJFKwyJG/H",
      "include_colab_link": true
    },
    "kernelspec": {
      "name": "python3",
      "display_name": "Python 3"
    },
    "language_info": {
      "name": "python"
    }
  },
  "cells": [
    {
      "cell_type": "markdown",
      "metadata": {
        "id": "view-in-github",
        "colab_type": "text"
      },
      "source": [
        "<a href=\"https://colab.research.google.com/github/Tanu-N-Prabhu/Python/blob/master/Python%20Coding%20Interview%20Prep/Text_Justification.ipynb\" target=\"_parent\"><img src=\"https://colab.research.google.com/assets/colab-badge.svg\" alt=\"Open In Colab\"/></a>"
      ]
    },
    {
      "cell_type": "markdown",
      "source": [
        "# Text Justification\n",
        "\n",
        "## Problem\n",
        "\n",
        "Given an array of strings words and a width maxWidth, format the text such that each line has exactly maxWidth characters and is fully (left and right) justified.\n",
        "\n",
        "You should pack your words in a greedy approach; that is, pack as many words as you can in each line. Pad extra spaces ' ' when necessary so that each line has exactly maxWidth characters.\n",
        "Extra spaces between words should be distributed as evenly as possible. If the number of spaces on a line does not divide evenly between words, the empty slots on the left will be assigned more spaces than the slots on the right.\n",
        "For the last line of text, it should be left-justified, and no extra space is inserted between words.\n",
        "\n",
        "> **Note**: A word is defined as a character sequence consisting of non-space characters only.\n",
        "Each word's length is guaranteed to be greater than 0 and not exceed maxWidth.\n",
        "The input array words contains at least one word.\n",
        "\n",
        "```\n",
        "\n",
        "Example 1:\n",
        "Input: words = [\"This\", \"is\", \"an\", \"example\", \"of\", \"text\", \"justification.\"], maxWidth = 16\n",
        "Output:\n",
        "[\n",
        "   \"This    is    an\",\n",
        "   \"example  of text\",\n",
        "   \"justification.  \"\n",
        "]\n",
        "\n",
        "Example 2:\n",
        "Input: words = [\"What\",\"must\",\"be\",\"acknowledgment\",\"shall\",\"be\"], maxWidth = 16\n",
        "Output:\n",
        "[\n",
        "  \"What   must   be\",\n",
        "  \"acknowledgment  \",\n",
        "  \"shall be        \"\n",
        "]\n",
        "\n",
        "Explanation: Note that the last line is \"shall be    \" instead of \"shall     be\", because the last line must be left-justified instead of fully-justified.\n",
        "Note that the second line is also left-justified because it contains only one word.\n",
        "\n",
        "Example 3:\n",
        "Input: words = [\"Science\",\"is\",\"what\",\"we\",\"understand\",\"well\",\"enough\",\"to\",\"explain\",\"to\",\"a\",\"computer.\",\"Art\",\"is\",\"everything\",\"else\",\"we\",\"do\"], maxWidth = 20\n",
        "Output:\n",
        "[\n",
        "  \"Science  is  what we\",\n",
        "  \"understand      well\",\n",
        "  \"enough to explain to\",\n",
        "  \"a  computer.  Art is\",\n",
        "  \"everything  else  we\",\n",
        "  \"do                  \"\n",
        "]\n",
        "\n",
        "Constraints:\n",
        "1 <= words.length <= 300\n",
        "1 <= words[i].length <= 20\n",
        "words[i] consists of only English letters and symbols.\n",
        "1 <= maxWidth <= 100\n",
        "words[i].length <= maxWidth\n",
        "\n",
        "```\n",
        "\n",
        "## Solution"
      ],
      "metadata": {
        "id": "5r-EUJ-HPl06"
      }
    },
    {
      "cell_type": "code",
      "execution_count": 3,
      "metadata": {
        "colab": {
          "base_uri": "https://localhost:8080/"
        },
        "id": "aWMvEJ7kPgiJ",
        "outputId": "aa7bd169-8371-4ce6-f6e0-7e2a9d8dd88d"
      },
      "outputs": [
        {
          "output_type": "stream",
          "name": "stdout",
          "text": [
            "This    is    an\n",
            "example  of text\n",
            "justification.  \n",
            "What   must   be\n",
            "acknowledgment  \n",
            "shall be        \n",
            "Science  is what\n",
            "we    understand\n",
            "well  enough  to\n",
            "explain   to   a\n",
            "computer. Art is\n",
            "everything  else\n",
            "we do           \n"
          ]
        }
      ],
      "source": [
        "class Solution:\n",
        "    def fullJustify(self, words, maxWidth):\n",
        "        result = []\n",
        "        line, line_length = [], 0\n",
        "\n",
        "        for word in words:\n",
        "            if line_length + len(word) + len(line) <= maxWidth:\n",
        "                line.append(word)\n",
        "                line_length += len(word)\n",
        "            else:\n",
        "                spaces_needed = maxWidth - line_length\n",
        "                if len(line) == 1:\n",
        "                    result.append(line[0] + ' ' * spaces_needed)\n",
        "                else:\n",
        "                    space_between_words, extra_spaces = divmod(spaces_needed, len(line) - 1)\n",
        "                    line_str = ''\n",
        "                    for i in range(len(line) - 1):\n",
        "                        line_str += line[i] + ' ' * (space_between_words + (1 if i < extra_spaces else 0))\n",
        "                    line_str += line[-1]\n",
        "                    result.append(line_str)\n",
        "\n",
        "                line, line_length = [word], len(word)\n",
        "\n",
        "        result.append(' '.join(line).ljust(maxWidth))\n",
        "        return result\n",
        "\n",
        "\n",
        "# Example usage\n",
        "if __name__ == \"__main__\":\n",
        "    solution = Solution()\n",
        "    words1 = [\"This\", \"is\", \"an\", \"example\", \"of\", \"text\", \"justification.\"]\n",
        "    words2 = [\"What\", \"must\", \"be\", \"acknowledgment\", \"shall\", \"be\"]\n",
        "    words3 = [\"Science\", \"is\", \"what\", \"we\", \"understand\", \"well\", \"enough\", \"to\", \"explain\", \"to\", \"a\", \"computer.\",\n",
        "              \"Art\", \"is\", \"everything\", \"else\", \"we\", \"do\"]\n",
        "\n",
        "    maxWidth = 16\n",
        "\n",
        "    result1 = solution.fullJustify(words1, maxWidth)\n",
        "    result2 = solution.fullJustify(words2, maxWidth)\n",
        "    result3 = solution.fullJustify(words3, maxWidth)\n",
        "\n",
        "    for line in result1:\n",
        "        print(line)\n",
        "\n",
        "    for line in result2:\n",
        "        print(line)\n",
        "\n",
        "    for line in result3:\n",
        "        print(line)"
      ]
    },
    {
      "cell_type": "markdown",
      "source": [
        "## Credits\n",
        "\n",
        "I would like to thank [Dhirajpatra](https://github.com/dhirajpatra) for writing this piece of code. Feel free to reach him out if you have any questions about Python Programming."
      ],
      "metadata": {
        "id": "rMlLUZrKRRyz"
      }
    }
  ]
}